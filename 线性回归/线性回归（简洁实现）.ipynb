{
 "cells": [
  {
   "cell_type": "code",
   "execution_count": 41,
   "id": "05a6f7cb",
   "metadata": {
    "pycharm": {
     "name": "#%%\n"
    }
   },
   "outputs": [],
   "source": [
    "import numpy as np\n",
    "import torch\n",
    "from torch.utils import data\n",
    "from d2l import torch as d2l"
   ]
  },
  {
   "cell_type": "code",
   "execution_count": 42,
   "id": "5f548af3",
   "metadata": {
    "pycharm": {
     "name": "#%%\n"
    }
   },
   "outputs": [],
   "source": [
    "true_w = torch.tensor([2, -3.4])\n",
    "true_b = 4.2\n",
    "features, labels = d2l.synthetic_data(true_w, true_b, 10000)"
   ]
  },
  {
   "cell_type": "code",
   "execution_count": 43,
   "id": "2a628dd3",
   "metadata": {
    "pycharm": {
     "name": "#%%\n"
    }
   },
   "outputs": [
    {
     "data": {
      "text/plain": [
       "[tensor([[-0.7236, -0.3923],\n",
       "         [ 0.4684,  1.3849],\n",
       "         [ 0.2241, -1.3011],\n",
       "         [-0.5184,  0.8368],\n",
       "         [-0.3268,  1.0919],\n",
       "         [ 1.6988,  1.1956],\n",
       "         [-1.5987, -0.1925],\n",
       "         [ 0.5304,  0.6684],\n",
       "         [ 0.1603,  0.1467],\n",
       "         [ 0.3908, -0.0565]]),\n",
       " tensor([[ 4.0826],\n",
       "         [ 0.4221],\n",
       "         [ 9.0737],\n",
       "         [ 0.3442],\n",
       "         [-0.1603],\n",
       "         [ 3.5138],\n",
       "         [ 1.6629],\n",
       "         [ 2.9827],\n",
       "         [ 4.0157],\n",
       "         [ 5.1492]])]"
      ]
     },
     "execution_count": 43,
     "metadata": {},
     "output_type": "execute_result"
    }
   ],
   "source": [
    "def load_array(data_arrays, batch_size, is_train=True):\n",
    "    \"\"\"构造一个pyTorch数据迭代器\"\"\"\n",
    "    dataset = data.TensorDataset(*data_arrays)\n",
    "    return data.DataLoader(dataset, batch_size, shuffle=is_train)\n",
    "batch_size = 10\n",
    "data_iter = load_array((features, labels), batch_size)\n",
    "next(iter(data_iter))"
   ]
  },
  {
   "cell_type": "markdown",
   "id": "cbdd42ce",
   "metadata": {
    "pycharm": {
     "name": "#%% md\n"
    }
   },
   "source": [
    "<br></br>\n",
    "<font size=4>使用框架的预定义好的层</font>"
   ]
  },
  {
   "cell_type": "code",
   "execution_count": 44,
   "id": "12ee5a82",
   "metadata": {
    "pycharm": {
     "name": "#%%\n"
    }
   },
   "outputs": [],
   "source": [
    "# `nn` 是神经网络的缩写\n",
    "from torch import nn \n",
    "\n",
    "# nn.Sequential可以理解成为一层（list of layers）\n",
    "net = nn.Sequential(nn.Linear(2, 1)) "
   ]
  },
  {
   "cell_type": "markdown",
   "id": "64d741d9",
   "metadata": {
    "pycharm": {
     "name": "#%% md\n"
    }
   },
   "source": [
    "<br></br>\n",
    "<font size=4>初始化模型参数</font>"
   ]
  },
  {
   "cell_type": "code",
   "execution_count": 45,
   "id": "9a0ee80f",
   "metadata": {
    "pycharm": {
     "name": "#%%\n"
    }
   },
   "outputs": [],
   "source": [
    "net[0].weight.data.normal_(0, 0.01)\n",
    "net[0].bias.data.fill_(0)"
   ]
  },
  {
   "cell_type": "markdown",
   "id": "4a40d66b",
   "metadata": {
    "pycharm": {
     "name": "#%% md\n"
    }
   },
   "source": [
    "<br></br>\n",
    "<font size=4>计算均方误差使用的是MSELoss类， 也称为平方范数</font>"
   ]
  },
  {
   "cell_type": "code",
   "execution_count": 46,
   "id": "75435424",
   "metadata": {
    "pycharm": {
     "name": "#%%\n"
    }
   },
   "outputs": [],
   "source": [
    "loss = nn.MSELoss()"
   ]
  },
  {
   "cell_type": "markdown",
   "id": "f8d6440c",
   "metadata": {
    "pycharm": {
     "name": "#%% md\n"
    }
   },
   "source": [
    "<br></br>\n",
    "<font size=4>实例化SGD实例</font>"
   ]
  },
  {
   "cell_type": "code",
   "execution_count": 47,
   "id": "0adeb1d5",
   "metadata": {
    "pycharm": {
     "name": "#%%\n"
    }
   },
   "outputs": [],
   "source": [
    "trainer = torch.optim.SGD(net.parameters(), lr=0.03)"
   ]
  },
  {
   "cell_type": "markdown",
   "id": "fd92156f",
   "metadata": {
    "pycharm": {
     "name": "#%% md\n"
    }
   },
   "source": [
    "<br></br>\n",
    "<font size=4>训练过程代码与我们从零开始实现时所做的非常相似</font>"
   ]
  },
  {
   "cell_type": "code",
   "execution_count": 48,
   "id": "f85cb656",
   "metadata": {
    "pycharm": {
     "name": "#%%\n"
    }
   },
   "outputs": [
    {
     "name": "stdout",
     "output_type": "stream",
     "text": [
      "epoch1, loss 0.000102\n",
      "epoch2, loss 0.000103\n",
      "epoch3, loss 0.000103\n"
     ]
    }
   ],
   "source": [
    "num_epoches = 3\n",
    "for epoch in range(num_epoches):\n",
    "    for X, y in data_iter:\n",
    "        l = loss(net(X), y)\n",
    "        trainer.zero_grad()\n",
    "        l.backward()\n",
    "        trainer.step() # 模型的更新\n",
    "    l = loss(net(features), labels)\n",
    "    print(f'epoch{epoch + 1}, loss {l:f}')"
   ]
  },
  {
   "cell_type": "code",
   "execution_count": null,
   "id": "c6f7623e",
   "metadata": {
    "pycharm": {
     "name": "#%%\n"
    }
   },
   "outputs": [],
   "source": []
  }
 ],
 "metadata": {
  "kernelspec": {
   "display_name": "Python 3 (ipykernel)",
   "language": "python",
   "name": "python3"
  },
  "language_info": {
   "codemirror_mode": {
    "name": "ipython",
    "version": 3
   },
   "file_extension": ".py",
   "mimetype": "text/x-python",
   "name": "python",
   "nbconvert_exporter": "python",
   "pygments_lexer": "ipython3",
   "version": "3.8.10"
  }
 },
 "nbformat": 4,
 "nbformat_minor": 5
}