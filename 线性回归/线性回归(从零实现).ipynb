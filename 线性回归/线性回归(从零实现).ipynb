{
 "cells": [
  {
   "cell_type": "code",
   "execution_count": 4,
   "id": "4d76624e",
   "metadata": {
    "pycharm": {
     "name": "#%%\n"
    }
   },
   "outputs": [],
   "source": [
    "%matplotlib inline\n",
    "import random\n",
    "import torch\n",
    "from d2l import torch as d2l"
   ]
  },
  {
   "cell_type": "markdown",
   "id": "fea53c96",
   "metadata": {
    "pycharm": {
     "name": "#%% md\n"
    }
   },
   "source": [
    "<br></br>\n",
    "<font size=4>根据带有噪声的线性模型构造一个人造数据集。 我们使用线性模型参数 w =[2, -3.4$]^T$、b = 4.2和噪声项c生成数据集及标签</font>"
   ]
  },
  {
   "cell_type": "code",
   "execution_count": 5,
   "id": "57a2eda8",
   "metadata": {
    "pycharm": {
     "name": "#%%\n"
    }
   },
   "outputs": [],
   "source": [
    "def synthetic_data(w, b, num_examples):\n",
    "    \"\"\"生成y = Xw + b + 噪声\"\"\"\n",
    "    X = torch.normal(0, 1, (num_examples, len(w)))\n",
    "    y = torch.matmul(X, w) + b\n",
    "    y += torch.normal(0, 0.01, y.shape)\n",
    "    return X, y.reshape((-1, 1)) # -1是均配符，表示行数随着列数自动匹配\n",
    "true_w = torch.tensor([2, -3.4])\n",
    "true_b = 4.2\n",
    "features, labels = synthetic_data(true_w, true_b, 1000)"
   ]
  },
  {
   "cell_type": "markdown",
   "id": "1ad756a2",
   "metadata": {
    "pycharm": {
     "name": "#%% md\n"
    }
   },
   "source": [
    "<br></br>\n",
    "<font size=4>定义一个data_iter函数， 该函数接收批量大小、特征矩阵和标签向量作为输入，set成大小为batch_size的小批量\n",
    "</font>"
   ]
  },
  {
   "cell_type": "code",
   "execution_count": 11,
   "id": "86f3f920",
   "metadata": {
    "pycharm": {
     "name": "#%%\n"
    }
   },
   "outputs": [
    {
     "name": "stdout",
     "output_type": "stream",
     "text": [
      "tensor([[ 1.5851,  0.7006],\n",
      "        [ 0.8069, -1.5701],\n",
      "        [-0.6452,  0.9220],\n",
      "        [-0.4068, -0.1675],\n",
      "        [-0.9974, -1.4948],\n",
      "        [-0.9441,  0.0803],\n",
      "        [-0.9079, -0.7219],\n",
      "        [-0.2759, -1.2146],\n",
      "        [-0.7426, -0.8097],\n",
      "        [ 0.4735,  0.3907]]) \n",
      " tensor([[ 5.0026],\n",
      "        [11.1526],\n",
      "        [-0.2341],\n",
      "        [ 3.9658],\n",
      "        [ 7.2837],\n",
      "        [ 2.0387],\n",
      "        [ 4.8427],\n",
      "        [ 7.7800],\n",
      "        [ 5.4734],\n",
      "        [ 3.8100]])\n"
     ]
    }
   ],
   "source": [
    "def data_iter(batch_size, features, labels):\n",
    "    num_examples = len(features)\n",
    "    indices = list(range(num_examples))\n",
    "    # 这些样本是随机读取的， 没有特定的顺序\n",
    "    random.shuffle(indices)\n",
    "    for i in range(0, num_examples, batch_size):\n",
    "        batch_indices = torch.tensor(indices[i:min(i + batch_size, num_examples)])\n",
    "        yield features[batch_indices], labels[batch_indices]\n",
    "batch_size = 10\n",
    "for X, y in data_iter(batch_size, features, labels):\n",
    "    print(X, '\\n', y)\n",
    "    break"
   ]
  },
  {
   "cell_type": "markdown",
   "id": "02b76a8b",
   "metadata": {
    "pycharm": {
     "name": "#%% md\n"
    }
   },
   "source": [
    "<br></br>\n",
    "<font size=4>定义初始化模型参数</font>"
   ]
  },
  {
   "cell_type": "code",
   "execution_count": 13,
   "id": "1cea4fbd",
   "metadata": {
    "pycharm": {
     "name": "#%%\n"
    }
   },
   "outputs": [
    {
     "data": {
      "text/plain": [
       "tensor([0.], requires_grad=True)"
      ]
     },
     "execution_count": 13,
     "metadata": {},
     "output_type": "execute_result"
    }
   ],
   "source": [
    "w = torch.normal(0, 0.01, size=(2, 1), requires_grad=True)\n",
    "b = torch.zeros(1, requires_grad=True)\n",
    "b"
   ]
  },
  {
   "cell_type": "markdown",
   "id": "f2067b87",
   "metadata": {
    "pycharm": {
     "name": "#%% md\n"
    }
   },
   "source": [
    "<br></br>\n",
    "<font size=4>定义模型</font>"
   ]
  },
  {
   "cell_type": "code",
   "execution_count": 14,
   "id": "ab67dbcc",
   "metadata": {
    "pycharm": {
     "name": "#%%\n"
    }
   },
   "outputs": [],
   "source": [
    "def linereg(X, w, b):\n",
    "    \"\"\"线性回归模型。\"\"\"\n",
    "    return torch.matmul(X, w) + b"
   ]
  },
  {
   "cell_type": "markdown",
   "id": "0632a4de",
   "metadata": {
    "pycharm": {
     "name": "#%% md\n"
    }
   },
   "source": [
    "<br></br>\n",
    "<font size=4>定义损失函数</font>"
   ]
  },
  {
   "cell_type": "code",
   "execution_count": 16,
   "id": "666801b3",
   "metadata": {
    "pycharm": {
     "name": "#%%\n"
    }
   },
   "outputs": [],
   "source": [
    "def squared_loss(y_hat, y):\n",
    "    return (y_hat - y) ** 2 / 2"
   ]
  },
  {
   "cell_type": "markdown",
   "id": "fda6acaa",
   "metadata": {
    "pycharm": {
     "name": "#%% md\n"
    }
   },
   "source": [
    "<br></br>\n",
    "<font size=4>定义优化算法</font>"
   ]
  },
  {
   "cell_type": "code",
   "execution_count": 18,
   "id": "73fc120b",
   "metadata": {
    "pycharm": {
     "name": "#%%\n"
    }
   },
   "outputs": [],
   "source": [
    "def sgd(params, lr, batch_size):\n",
    "    \"\"\"小批量随机梯度下降\"\"\"\n",
    "    with torch.no_grad():\n",
    "        for param in params:\n",
    "            param -= lr * param.grad / batch_size # 一个批量求一下平均\n",
    "            param.grad.zero_()"
   ]
  },
  {
   "cell_type": "markdown",
   "id": "d17f7791",
   "metadata": {
    "pycharm": {
     "name": "#%% md\n"
    }
   },
   "source": [
    "<br></br>\n",
    "<font size=4>训练过程</font>"
   ]
  },
  {
   "cell_type": "code",
   "execution_count": 23,
   "id": "416bfbd8",
   "metadata": {
    "pycharm": {
     "name": "#%%\n"
    }
   },
   "outputs": [
    {
     "name": "stdout",
     "output_type": "stream",
     "text": [
      "epochepoch 1, loss 0.00018728685972746462\n",
      "epochepoch 2, loss 4.99427187605761e-05\n",
      "epochepoch 3, loss 5.014161069993861e-05\n"
     ]
    }
   ],
   "source": [
    "lr = 0.03\n",
    "num_epoches = 3\n",
    "net = linereg\n",
    "loss = squared_loss\n",
    "\n",
    "for epoch in range(num_epoches):\n",
    "    for X, y in data_iter(batch_size, features, labels):\n",
    "        l = loss(net(X, w, b), y) # X和y的小批量损失\n",
    "        # 因为l形状是（batchsize, 1）, 而不是一个标量。 l中的所有元素被加到一起\n",
    "        # 并以此计算关于[w, b]的梯度\n",
    "        l.sum().backward()\n",
    "        sgd([w, b], lr, batch_size) # 使用参数的梯度更新参数\n",
    "    with torch.no_grad():\n",
    "        train_l = loss(net(features, w, b), labels)\n",
    "        print(f'epochepoch {epoch + 1}, loss {float(train_l.mean())}')\n",
    "        "
   ]
  },
  {
   "cell_type": "code",
   "execution_count": 24,
   "id": "38331ff9",
   "metadata": {
    "pycharm": {
     "name": "#%%\n"
    }
   },
   "outputs": [
    {
     "name": "stdout",
     "output_type": "stream",
     "text": [
      "tensor([[ 1.9993],\n",
      "        [-3.4001]], requires_grad=True) tensor([4.1994], requires_grad=True)\n"
     ]
    }
   ],
   "source": [
    "print(w, b)"
   ]
  },
  {
   "cell_type": "code",
   "execution_count": null,
   "id": "9ee04363",
   "metadata": {
    "pycharm": {
     "name": "#%%\n"
    }
   },
   "outputs": [],
   "source": []
  }
 ],
 "metadata": {
  "kernelspec": {
   "display_name": "Python 3 (ipykernel)",
   "language": "python",
   "name": "python3"
  },
  "language_info": {
   "codemirror_mode": {
    "name": "ipython",
    "version": 3
   },
   "file_extension": ".py",
   "mimetype": "text/x-python",
   "name": "python",
   "nbconvert_exporter": "python",
   "pygments_lexer": "ipython3",
   "version": "3.8.10"
  }
 },
 "nbformat": 4,
 "nbformat_minor": 5
}