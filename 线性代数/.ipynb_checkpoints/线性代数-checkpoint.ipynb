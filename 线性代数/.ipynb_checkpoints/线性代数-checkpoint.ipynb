{
 "cells": [
  {
   "cell_type": "markdown",
   "id": "8e64020a",
   "metadata": {},
   "source": [
    "<font szie=4>**标量由只有一个元素的张量表示**</font>"
   ]
  },
  {
   "cell_type": "code",
   "execution_count": 14,
   "id": "1ea72565",
   "metadata": {},
   "outputs": [
    {
     "data": {
      "text/plain": [
       "(tensor([5.]), tensor([6.]), tensor([1.5000]), tensor([9.]))"
      ]
     },
     "execution_count": 14,
     "metadata": {},
     "output_type": "execute_result"
    }
   ],
   "source": [
    "import torch\n",
    "\n",
    "x = torch.tensor([3.0])\n",
    "y = torch.tensor([2.0])\n",
    "x + y, x * y, x / y, x**y"
   ]
  },
  {
   "cell_type": "markdown",
   "id": "964ef669",
   "metadata": {},
   "source": [
    "<br></br>\n",
    "<font szie=4>**你可以将向量视为标量值组成的列表， 通过张量的索引来访问任一元素**</font>"
   ]
  },
  {
   "cell_type": "code",
   "execution_count": 15,
   "id": "c1eed935",
   "metadata": {},
   "outputs": [
    {
     "name": "stdout",
     "output_type": "stream",
     "text": [
      "tensor([0., 1., 2., 3.])\n"
     ]
    },
    {
     "data": {
      "text/plain": [
       "tensor(3.)"
      ]
     },
     "execution_count": 15,
     "metadata": {},
     "output_type": "execute_result"
    }
   ],
   "source": [
    "x = torch.arange(4, dtype = torch.float32)\n",
    "print(x)\n",
    "x[3]"
   ]
  },
  {
   "cell_type": "markdown",
   "id": "ace8feb5",
   "metadata": {},
   "source": [
    "<br></br>\n",
    "<font szie=4>**通过指定两个分量m和n来创建一个形状为m x n 的矩阵**</font>"
   ]
  },
  {
   "cell_type": "code",
   "execution_count": 16,
   "id": "6b271baa",
   "metadata": {},
   "outputs": [
    {
     "data": {
      "text/plain": [
       "tensor([[ 0,  1,  2,  3],\n",
       "        [ 4,  5,  6,  7],\n",
       "        [ 8,  9, 10, 11],\n",
       "        [12, 13, 14, 15],\n",
       "        [16, 17, 18, 19]])"
      ]
     },
     "execution_count": 16,
     "metadata": {},
     "output_type": "execute_result"
    }
   ],
   "source": [
    "A = torch.arange(20).reshape(5,4)\n",
    "A"
   ]
  },
  {
   "cell_type": "markdown",
   "id": "377c2c49",
   "metadata": {},
   "source": [
    "<br></br>\n",
    "<font szie=4>**矩阵的转置**</font>"
   ]
  },
  {
   "cell_type": "code",
   "execution_count": 17,
   "id": "79a6c44b",
   "metadata": {},
   "outputs": [
    {
     "data": {
      "text/plain": [
       "tensor([[ 0,  4,  8, 12, 16],\n",
       "        [ 1,  5,  9, 13, 17],\n",
       "        [ 2,  6, 10, 14, 18],\n",
       "        [ 3,  7, 11, 15, 19]])"
      ]
     },
     "execution_count": 17,
     "metadata": {},
     "output_type": "execute_result"
    }
   ],
   "source": [
    "A.T"
   ]
  },
  {
   "cell_type": "markdown",
   "id": "b73842ef",
   "metadata": {},
   "source": [
    "<br></br>\n",
    "<font szie=4>**对称矩阵A等于其转置**</font>"
   ]
  },
  {
   "cell_type": "code",
   "execution_count": 18,
   "id": "76cec74c",
   "metadata": {},
   "outputs": [
    {
     "data": {
      "text/plain": [
       "tensor([[1, 2, 3],\n",
       "        [2, 0, 4],\n",
       "        [3, 4, 5]])"
      ]
     },
     "execution_count": 18,
     "metadata": {},
     "output_type": "execute_result"
    }
   ],
   "source": [
    "B = torch.tensor([[1, 2, 3], [2, 0, 4], [3, 4, 5]])\n",
    "B"
   ]
  },
  {
   "cell_type": "code",
   "execution_count": 19,
   "id": "5d75fa3f",
   "metadata": {},
   "outputs": [
    {
     "data": {
      "text/plain": [
       "tensor([[True, True, True],\n",
       "        [True, True, True],\n",
       "        [True, True, True]])"
      ]
     },
     "execution_count": 19,
     "metadata": {},
     "output_type": "execute_result"
    }
   ],
   "source": [
    "B == B.T"
   ]
  },
  {
   "cell_type": "markdown",
   "id": "bf7ee8c4",
   "metadata": {},
   "source": [
    "<br></br>\n",
    "<font szie=4>**给定具有相同形状的任何两个张量， 任何按二元运算的结果都将是相同形状的张量**</font>"
   ]
  },
  {
   "cell_type": "code",
   "execution_count": 20,
   "id": "df093a2d",
   "metadata": {},
   "outputs": [
    {
     "data": {
      "text/plain": [
       "(tensor([[ 0.,  1.,  2.,  3.],\n",
       "         [ 4.,  5.,  6.,  7.],\n",
       "         [ 8.,  9., 10., 11.],\n",
       "         [12., 13., 14., 15.],\n",
       "         [16., 17., 18., 19.]]),\n",
       " tensor([[ 0.,  2.,  4.,  6.],\n",
       "         [ 8., 10., 12., 14.],\n",
       "         [16., 18., 20., 22.],\n",
       "         [24., 26., 28., 30.],\n",
       "         [32., 34., 36., 38.]]))"
      ]
     },
     "execution_count": 20,
     "metadata": {},
     "output_type": "execute_result"
    }
   ],
   "source": [
    "A = torch.arange(20, dtype=torch.float32).reshape(5, 4)\n",
    "B = A.clone()\n",
    "A, A + B"
   ]
  },
  {
   "cell_type": "markdown",
   "id": "b600dd7e",
   "metadata": {},
   "source": [
    "<br></br>\n",
    "<font szie=4>**两个矩阵的按元素乘法称为哈达玛积**</font>"
   ]
  },
  {
   "cell_type": "code",
   "execution_count": 21,
   "id": "d175a34c",
   "metadata": {},
   "outputs": [
    {
     "data": {
      "text/plain": [
       "tensor([[  0.,   1.,   4.,   9.],\n",
       "        [ 16.,  25.,  36.,  49.],\n",
       "        [ 64.,  81., 100., 121.],\n",
       "        [144., 169., 196., 225.],\n",
       "        [256., 289., 324., 361.]])"
      ]
     },
     "execution_count": 21,
     "metadata": {},
     "output_type": "execute_result"
    }
   ],
   "source": [
    "A * B"
   ]
  },
  {
   "cell_type": "markdown",
   "id": "2bb18330",
   "metadata": {},
   "source": [
    "<br></br>\n",
    "<font szie=4>**点积是相同位置的按元素乘积的和**</font>"
   ]
  },
  {
   "cell_type": "code",
   "execution_count": 22,
   "id": "d72e9eb6",
   "metadata": {},
   "outputs": [
    {
     "data": {
      "text/plain": [
       "(tensor([0., 1., 2., 3.]), tensor([1., 1., 1., 1.]), tensor(6.))"
      ]
     },
     "execution_count": 22,
     "metadata": {},
     "output_type": "execute_result"
    }
   ],
   "source": [
    "y = torch.ones(4, dtype=torch.float32)\n",
    "x, y, torch.dot(x, y)"
   ]
  },
  {
   "cell_type": "markdown",
   "id": "95927da0",
   "metadata": {},
   "source": [
    "<br></br>\n",
    "<font szie=4>**矩阵向量积Ax是一个长度为m的列向量**</font>"
   ]
  },
  {
   "cell_type": "code",
   "execution_count": 25,
   "id": "05bbe91d",
   "metadata": {},
   "outputs": [
    {
     "data": {
      "text/plain": [
       "(torch.Size([5, 4]), torch.Size([4]), tensor([ 14.,  38.,  62.,  86., 110.]))"
      ]
     },
     "execution_count": 25,
     "metadata": {},
     "output_type": "execute_result"
    }
   ],
   "source": [
    "A.shape, x.shape, torch.mv(A, x)"
   ]
  },
  {
   "cell_type": "markdown",
   "id": "e203f1eb",
   "metadata": {},
   "source": [
    "<br></br>\n",
    "<font szie=4>**我们可以将矩阵-矩阵乘法AB看作是简单地执行m次矩阵-向量积， 并将结果拼接在一起，形成一个n x m矩阵**</font>"
   ]
  },
  {
   "cell_type": "code",
   "execution_count": 26,
   "id": "1ea4bd41",
   "metadata": {},
   "outputs": [
    {
     "data": {
      "text/plain": [
       "tensor([[ 6.,  6.,  6.],\n",
       "        [22., 22., 22.],\n",
       "        [38., 38., 38.],\n",
       "        [54., 54., 54.],\n",
       "        [70., 70., 70.]])"
      ]
     },
     "execution_count": 26,
     "metadata": {},
     "output_type": "execute_result"
    }
   ],
   "source": [
    "B = torch. ones(4, 3)\n",
    "torch.mm(A, B)"
   ]
  },
  {
   "cell_type": "markdown",
   "id": "1a6892f4",
   "metadata": {},
   "source": [
    "<br></br>\n",
    "<font szie=4>**L2范数是向量元素平方和的平方根**</font>"
   ]
  },
  {
   "cell_type": "code",
   "execution_count": 27,
   "id": "e9d23c9e",
   "metadata": {},
   "outputs": [
    {
     "data": {
      "text/plain": [
       "tensor(5.)"
      ]
     },
     "execution_count": 27,
     "metadata": {},
     "output_type": "execute_result"
    }
   ],
   "source": [
    "u = torch.tensor([3.0, -4.0])\n",
    "torch.norm(u)"
   ]
  },
  {
   "cell_type": "code",
   "execution_count": null,
   "id": "262b80ad",
   "metadata": {},
   "outputs": [],
   "source": []
  }
 ],
 "metadata": {
  "kernelspec": {
   "display_name": "Python 3 (ipykernel)",
   "language": "python",
   "name": "python3"
  },
  "language_info": {
   "codemirror_mode": {
    "name": "ipython",
    "version": 3
   },
   "file_extension": ".py",
   "mimetype": "text/x-python",
   "name": "python",
   "nbconvert_exporter": "python",
   "pygments_lexer": "ipython3",
   "version": "3.8.10"
  }
 },
 "nbformat": 4,
 "nbformat_minor": 5
}
