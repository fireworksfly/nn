{
 "cells": [
  {
   "cell_type": "code",
   "execution_count": 4,
   "id": "cf958be5",
   "metadata": {},
   "outputs": [
    {
     "data": {
      "text/plain": [
       "(tensor([[19,  1,  9,  ...,  7, 10,  1],\n",
       "         [ 8,  1,  3,  ..., 18, 12,  4],\n",
       "         [16,  5,  6,  ...,  2, 11,  1],\n",
       "         ...,\n",
       "         [ 2, 12, 12,  ...,  2,  2,  6],\n",
       "         [13,  2,  1,  ...,  6, 15,  2],\n",
       "         [ 2,  1,  9,  ...,  1, 11, 10]]),\n",
       " tensor([[ 1,  9,  1,  ..., 10,  1,  8],\n",
       "         [ 1,  3,  9,  ..., 12,  4,  8],\n",
       "         [ 5,  6, 18,  ..., 11,  1,  9],\n",
       "         ...,\n",
       "         [12, 12,  1,  ...,  2,  6,  1],\n",
       "         [ 2,  1,  3,  ..., 15,  2,  1],\n",
       "         [ 1,  9,  2,  ..., 11, 10,  2]]))"
      ]
     },
     "execution_count": 4,
     "metadata": {},
     "output_type": "execute_result"
    }
   ],
   "source": [
    "import torch\n",
    "from torch import nn\n",
    "from d2l import torch as d2l\n",
    "\n",
    "batch_size, num_steps = 32, 35\n",
    "train_iter, vocab = d2l.load_data_time_machine(batch_size, num_steps)\n",
    "next(iter(train_iter))"
   ]
  },
  {
   "cell_type": "code",
   "execution_count": null,
   "id": "f27b5fc0",
   "metadata": {},
   "outputs": [],
   "source": []
  }
 ],
 "metadata": {
  "kernelspec": {
   "display_name": "Python 3 (ipykernel)",
   "language": "python",
   "name": "python3"
  },
  "language_info": {
   "codemirror_mode": {
    "name": "ipython",
    "version": 3
   },
   "file_extension": ".py",
   "mimetype": "text/x-python",
   "name": "python",
   "nbconvert_exporter": "python",
   "pygments_lexer": "ipython3",
   "version": "3.8.9"
  }
 },
 "nbformat": 4,
 "nbformat_minor": 5
}
